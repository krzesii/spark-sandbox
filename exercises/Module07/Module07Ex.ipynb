{
 "cells": [
  {
   "cell_type": "markdown",
   "metadata": {},
   "source": [
    "Source: [Torino](../../notebooks/references.md)"
   ]
  },
  {
   "cell_type": "markdown",
   "metadata": {},
   "source": [
    "Exercise 1 - Data in Ex1 folder\n",
    "\n",
    "Input: a textual csv file containing the daily value\n",
    "of PM10 for a set of sensors\n",
    "* Each line of the files has the following format\n",
    "sensorId,date,PM10 value (μg/m3)\\n\n",
    "\n",
    "Output: the maximum value of PM10 for each\n",
    "sensor\n",
    "* Store the result in Json file\n"
   ]
  },
  {
   "cell_type": "markdown",
   "metadata": {},
   "source": [
    "Exercise 2 - Data in Ex2 folder\n",
    "\n",
    "Input: a textual csv file containing the daily value\n",
    "of PM10 for a set of sensors\n",
    "* Each line of the files has the following format\n",
    "sensorId,date,PM10 value (μg/m3)\\n\n",
    "\n",
    "Output: the sensors with at least 2 readings with a\n",
    "PM10 value greater than the critical threshold 50\n",
    "* Store in an Json  file the sensorIds of the selected\n",
    "sensors and also the number of times each of those\n",
    "sensors is associated with a PM10 value greater than 50\n"
   ]
  },
  {
   "cell_type": "markdown",
   "metadata": {},
   "source": [
    "Exercise 3 - Data in Ex3 folder\n",
    "\n",
    "Input: a textual csv file containing the daily value\n",
    "of PM10 for a set of sensors\n",
    "* Each line of the files has the following format\n",
    "sensorId,date,PM10 value (μg/m3)\\n\n",
    "\n",
    "Output: an Json file containing one line for each\n",
    "sensor\n",
    "* Each line contains a sensorId and the list of dates with a\n",
    "PM10 values greater than 50 for that sensor"
   ]
  },
  {
   "cell_type": "markdown",
   "metadata": {},
   "source": [
    "Exercise 4 - Data in Ex4 folder\n",
    "\n",
    "Input: a textual csv file containing the daily value\n",
    "of PM10 for a set of sensors\n",
    "* Each line of the files has the following format\n",
    "sensorId,date,PM10 value (μg/m3)\\n\n",
    "\n",
    "Output: an Json file containing the sensors\n",
    "ordered by the number of critical days\n",
    "* Each line of the output file contains the number of days\n",
    "with a PM10 values greater than 50 for a sensor s and\n",
    "the sensorId of sensor s\n"
   ]
  },
  {
   "cell_type": "markdown",
   "metadata": {},
   "source": [
    "Exercise 5 - Data in Ex5 folder\n",
    "\n",
    "Input:\n",
    "* A textual csv file containing the daily value of PM10 for a\n",
    "set of sensors\n",
    "* Each line of the files has the following format\n",
    "sensorId,date,PM10 value (μg/m3)\\n\n",
    "* The value of k\n",
    "* It is a variable in the application\n",
    "\n",
    "Output:\n",
    "* An Json file containing the top-k critical sensors\n",
    "* The “criticality” of a sensor is given by the number of days with a\n",
    "PM10 values greater than 50\n",
    "* Each line contains the number of critical days and the sensorId\n"
   ]
  }
 ],
 "metadata": {
  "kernelspec": {
   "display_name": "Python 3.9.1 64-bit ('3.9.1')",
   "language": "python",
   "name": "python3"
  },
  "language_info": {
   "name": "python",
   "version": "3.9.1"
  },
  "orig_nbformat": 4,
  "vscode": {
   "interpreter": {
    "hash": "1e881f75bf7478e124c5aa0d02353c2d3670d1a7773b26fcf2547f6f4fafce3d"
   }
  }
 },
 "nbformat": 4,
 "nbformat_minor": 2
}
