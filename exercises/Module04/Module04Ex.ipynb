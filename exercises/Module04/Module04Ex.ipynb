{
 "cells": [
  {
   "cell_type": "markdown",
   "metadata": {},
   "source": [
    "Source: [Torino](../../notebooks/references.md)"
   ]
  },
  {
   "cell_type": "markdown",
   "metadata": {},
   "source": [
    "Exercise 1 - Data in Ex1 folder\n",
    "\n",
    "Input:\n",
    "A CSV file containing a list of user profiles\n",
    "* Header\n",
    "* name,age,gender\n",
    "* Each line of the file contains the information about one user\n",
    "\n",
    "Output:\n",
    "Select male users (gender=“male”), increase by one\n",
    "their age, and store in the output folder name and age\n",
    "of these users sorted by decreasing age and\n",
    "ascending name (if the age value is the same)\n",
    "\n",
    "The output does not contain the header line\n",
    "\n",
    "Example of input data:\n",
    "\n",
    "name,age,gender\\\n",
    "Paul,40,male\\\n",
    "John,40,male\\\n",
    "David,15,male\\\n",
    "Susan,40,female\\\n",
    "Karen,34,female\n",
    "\n",
    "Example of expected output:\n",
    "\n",
    "John,41\\\n",
    "Paul,41\\\n",
    "David,16"
   ]
  },
  {
   "cell_type": "markdown",
   "metadata": {},
   "source": [
    "Exercise 2 - Data in Ex2 folder\n",
    "\n",
    "Input:\n",
    "A CSV file containing a list of user profiles\n",
    "\n",
    "* Header\n",
    "* name,age,gender\n",
    "* Each line of the file contains the information about one user\n",
    "\n",
    "Output:\n",
    "* Select the names occurring at least two times and\n",
    "store in the output folder name and average(age) of\n",
    "the selected names\n",
    "* The output does not contain the header line\n"
   ]
  }
 ],
 "metadata": {
  "kernelspec": {
   "display_name": "Python 3.9.1 64-bit ('3.9.1')",
   "language": "python",
   "name": "python3"
  },
  "language_info": {
   "name": "python",
   "version": "3.9.1"
  },
  "orig_nbformat": 4,
  "vscode": {
   "interpreter": {
    "hash": "1e881f75bf7478e124c5aa0d02353c2d3670d1a7773b26fcf2547f6f4fafce3d"
   }
  }
 },
 "nbformat": 4,
 "nbformat_minor": 2
}
