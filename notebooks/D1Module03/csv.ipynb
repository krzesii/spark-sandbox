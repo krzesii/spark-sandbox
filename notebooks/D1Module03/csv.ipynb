{
 "cells": [
  {
   "cell_type": "code",
   "execution_count": null,
   "metadata": {},
   "outputs": [],
   "source": [
    "from pyspark.sql import SparkSession"
   ]
  },
  {
   "cell_type": "code",
   "execution_count": null,
   "metadata": {},
   "outputs": [],
   "source": [
    "spark = SparkSession.builder().master(\"local[1]\").appName(\"CSV\").getOrCreate()\n"
   ]
  },
  {
   "cell_type": "code",
   "execution_count": null,
   "metadata": {},
   "outputs": [],
   "source": [
    "df = spark.read.csv(\"fakefriends-header.csv\")\n",
    "df.printSchema()"
   ]
  },
  {
   "cell_type": "code",
   "execution_count": null,
   "metadata": {},
   "outputs": [],
   "source": [
    "#read with headers\n",
    "df2 = spark.read.option(\"header\",True).csv(\"fakefriends-header.csv\")"
   ]
  },
  {
   "cell_type": "code",
   "execution_count": null,
   "metadata": {},
   "outputs": [],
   "source": [
    "#specify delimiter\n",
    "df3 = spark.read.options(delimiter=',').csv(\"fakefriends-header.csv\")"
   ]
  },
  {
   "cell_type": "code",
   "execution_count": null,
   "metadata": {},
   "outputs": [],
   "source": [
    "#load multiple files\n",
    "#df = spark.read.csv(\"path1,path2,path3\")"
   ]
  },
  {
   "cell_type": "code",
   "execution_count": null,
   "metadata": {},
   "outputs": [],
   "source": [
    "#infer schema \n",
    "df4 = spark.read.options(inferSchema='True',delimiter=',').csv(\"fakefriends-header.csv\")\n"
   ]
  },
  {
   "cell_type": "code",
   "execution_count": null,
   "metadata": {},
   "outputs": [],
   "source": [
    "#infer schema alternative\n",
    "df4 = spark.read.option(\"inferSchema\",True) \\\n",
    "                .option(\"delimiter\",\",\") \\\n",
    "  .csv(\"src/main/resources/zipcodes.csv\")"
   ]
  },
  {
   "cell_type": "code",
   "execution_count": null,
   "metadata": {},
   "outputs": [],
   "source": [
    "#write csv file from dataframe\n",
    "df.write.option(\"header\",True) \\\n",
    " .csv(\"fake_friends_write_header.csv\")"
   ]
  },
  {
   "cell_type": "code",
   "execution_count": null,
   "metadata": {},
   "outputs": [],
   "source": [
    "#specify delimiter\n",
    "\n",
    "df2.write.options(header='True', delimiter=',') \\\n",
    " .csv(\"fake_friends_write_delimiter.csv\")"
   ]
  },
  {
   "cell_type": "code",
   "execution_count": null,
   "metadata": {},
   "outputs": [],
   "source": [
    "#write modes\n",
    "#overwrite – mode is used to overwrite the existing file.\n",
    "#append – To add the data to the existing file.\n",
    "#ignore – Ignores write operation when the file already exists.\n",
    "#error – This is a default option when the file already exists, it returns an error.\n",
    "\n",
    "df2.write.mode('overwrite').csv(\"fake_friends_write_overwrite.csv\")\n",
    "#you can also use this\n",
    "df2.write.format(\"csv\").mode('overwrite').save(\"fake_friends_write_overwrite.csv\")"
   ]
  }
 ],
 "metadata": {
  "kernelspec": {
   "display_name": "Python 3.9.1 64-bit ('3.9.1')",
   "language": "python",
   "name": "python3"
  },
  "language_info": {
   "name": "python",
   "version": "3.9.1"
  },
  "orig_nbformat": 4,
  "vscode": {
   "interpreter": {
    "hash": "1e881f75bf7478e124c5aa0d02353c2d3670d1a7773b26fcf2547f6f4fafce3d"
   }
  }
 },
 "nbformat": 4,
 "nbformat_minor": 2
}
