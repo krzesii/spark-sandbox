{
  "cells": [
    {
      "cell_type": "markdown",
      "metadata": {},
      "source": [
        "Source: [SparkHandsOn](references.md)"
      ]
    },
    {
      "cell_type": "code",
      "execution_count": null,
      "metadata": {
        "id": "e3pTfRiwTMeY"
      },
      "outputs": [],
      "source": [
        "# Linking with Spark (https://spark.apache.org/docs/latest/api/python/reference/pyspark.sql.html)\n",
        "import pyspark\n",
        "from pyspark.sql import SparkSession\n",
        "\n",
        "spark = SparkSession.builder.master(\"local[*]\").getOrCreate()\n",
        "\n",
        "spark"
      ]
    },
    {
      "cell_type": "markdown",
      "metadata": {
        "id": "quQ_GBpgWLRK"
      },
      "source": [
        "# **Part 1: Create DF and Basic Operations**"
      ]
    },
    {
      "cell_type": "code",
      "execution_count": 4,
      "metadata": {
        "id": "1n39Bv24XHjt"
      },
      "outputs": [],
      "source": [
        "# Create/Load DF: (Spark automatically scans through the files and infers the schema of the dataset)\n",
        "# data source: https://www.kaggle.com/thec03u5/fifa-18-demo-player-dataset\n",
        "\n",
        "df1 = spark.read.format(\"csv\").load(\"CompleteDataset.csv\", inferSchema=True, header=True)"
      ]
    },
    {
      "cell_type": "code",
      "execution_count": null,
      "metadata": {
        "id": "b8aOYoMLX7Er"
      },
      "outputs": [],
      "source": [
        "# Show data:\n",
        "df1.show()"
      ]
    },
    {
      "cell_type": "code",
      "execution_count": null,
      "metadata": {
        "id": "9EffFOyTYC18"
      },
      "outputs": [],
      "source": [
        "# How many partitions in DF?\n",
        "df1.rdd.getNumPartitions()"
      ]
    },
    {
      "cell_type": "code",
      "execution_count": null,
      "metadata": {
        "id": "YBP0nzanB1Cd"
      },
      "outputs": [],
      "source": [
        "# Increase/Desrease the partitions in DF\n",
        "df2 = df1.repartition(4)\n",
        "df2.rdd.getNumPartitions()"
      ]
    },
    {
      "cell_type": "code",
      "execution_count": null,
      "metadata": {
        "id": "N0sR-ffdCKuc"
      },
      "outputs": [],
      "source": [
        "# Show DF\n",
        "df2.show()"
      ]
    },
    {
      "cell_type": "code",
      "execution_count": null,
      "metadata": {
        "id": "Yp9QWyKcDQZy"
      },
      "outputs": [],
      "source": [
        "# Rename Columns and Amend NULLs:\n",
        "df2 = df2.withColumnRenamed(\"_c0\", \"ID\") \\\n",
        "    .withColumnRenamed(\"Ball control\", \"Ball_Control\")\\\n",
        "    .withColumnRenamed(\"Sliding tackle\", \"Sliding_Tackle\")\n",
        "\n",
        "df2.na.fill({\"RAM\": 10, \"RB\": 1}).show()"
      ]
    },
    {
      "cell_type": "code",
      "execution_count": null,
      "metadata": {
        "id": "Vf9eiG93HbKK"
      },
      "outputs": [],
      "source": [
        "# Transformation (SELECT):\n",
        "df2.select(\"Name\",\"Overall\").distinct().show()"
      ]
    },
    {
      "cell_type": "code",
      "execution_count": null,
      "metadata": {
        "id": "QlLKM3krHyWD"
      },
      "outputs": [],
      "source": [
        "# Transformation (FILTER):\n",
        "df2.filter(df2[\"Overall\"] > 70).show()"
      ]
    },
    {
      "cell_type": "code",
      "execution_count": null,
      "metadata": {
        "id": "7b94hjJuIDj5"
      },
      "outputs": [],
      "source": [
        "# Transformation (FILTER):\n",
        "df2.select(\"Overall\", \"Name\", \"Age\").where(df2[\"Overall\"]>70).show()"
      ]
    },
    {
      "cell_type": "code",
      "execution_count": null,
      "metadata": {
        "id": "vvnmUbd1IgKL"
      },
      "outputs": [],
      "source": [
        "# Transformation (FILTER):\n",
        "df2.where(df2[\"Overall\"]>70).groupBy(\"Age\").count().sort(\"Age\").show()"
      ]
    },
    {
      "cell_type": "code",
      "execution_count": null,
      "metadata": {
        "id": "qyoxZNRDJYJL"
      },
      "outputs": [],
      "source": [
        "# Visualize the results:\n",
        "df2_result = df2.where(df2[\"Overall\"]>70).groupBy(\"Age\").count().sort(\"Age\")\n",
        "\n",
        "pandas_df = df2_result.toPandas()\n",
        "pandas_df.plot(x = \"Age\", y = \"count\", kind = \"bar\")\n"
      ]
    },
    {
      "cell_type": "code",
      "execution_count": null,
      "metadata": {
        "id": "xL4ac6O7wZvE"
      },
      "outputs": [],
      "source": [
        "pandas_df.sort_values(by=\"count\", ascending=False).plot(x = \"Age\", y = \"count\", kind = \"bar\")"
      ]
    }
  ],
  "metadata": {
    "colab": {
      "collapsed_sections": [],
      "name": "Working_with_DF.ipynb",
      "provenance": []
    },
    "kernelspec": {
      "display_name": "Python 3.9.1 64-bit ('3.9.1')",
      "language": "python",
      "name": "python3"
    },
    "language_info": {
      "codemirror_mode": {
        "name": "ipython",
        "version": 3
      },
      "file_extension": ".py",
      "mimetype": "text/x-python",
      "name": "python",
      "nbconvert_exporter": "python",
      "pygments_lexer": "ipython3",
      "version": "3.9.1"
    },
    "vscode": {
      "interpreter": {
        "hash": "1e881f75bf7478e124c5aa0d02353c2d3670d1a7773b26fcf2547f6f4fafce3d"
      }
    }
  },
  "nbformat": 4,
  "nbformat_minor": 0
}
