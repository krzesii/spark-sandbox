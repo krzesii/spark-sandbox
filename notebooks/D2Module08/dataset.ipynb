{
 "cells": [
  {
   "cell_type": "code",
   "execution_count": null,
   "metadata": {},
   "outputs": [],
   "source": [
    "//Dataset using range\n",
    "val ds = spark.range(3)\n",
    "ds.show()"
   ]
  },
  {
   "cell_type": "markdown",
   "metadata": {},
   "source": [
    "The Scala List is a sequence of elements, implemented as a linked list. Lists support efficient addition of new elements at the front.\n",
    "Unlike Python list, which is mutable; Scala List is immutable"
   ]
  },
  {
   "cell_type": "code",
   "execution_count": null,
   "metadata": {},
   "outputs": [],
   "source": [
    "//Dataset using list\n",
    "val dslist = List(1,2,3).toDS()\n",
    "dslist.show()"
   ]
  },
  {
   "cell_type": "markdown",
   "metadata": {},
   "source": [
    "Scala Seq is a trait to represent immutable sequences. This structure provides index based access and various utility methods to find elements, their occurences and subsequences. A Seq maintains the insertion order."
   ]
  },
  {
   "cell_type": "code",
   "execution_count": null,
   "metadata": {},
   "outputs": [],
   "source": [
    "//Dataset using sequence\n",
    "val dsseq = Seq(1,2,3).toDS()\n",
    "dsseq.show()"
   ]
  },
  {
   "cell_type": "markdown",
   "metadata": {},
   "source": [
    "A Case Class is just like a regular class, which has a feature for modeling immutable data"
   ]
  },
  {
   "cell_type": "code",
   "execution_count": null,
   "metadata": {},
   "outputs": [],
   "source": [
    "//Dataset with case class\n",
    "case class Person(name: String, age: Long)\n",
    "val dsPerson = Seq(Person(\"Andy\", 32),Person(\"Kate\", 30),Person(\"Peter\", 34)).toDS()\n",
    "dsPerson.show()"
   ]
  },
  {
   "cell_type": "code",
   "execution_count": null,
   "metadata": {},
   "outputs": [],
   "source": [
    "//Dataset using RDD\n",
    "val rdd = sc.parallelize(Seq(1,2,3))\n",
    "val dsrdd = rdd.toDS()\n",
    "dsrdd.show()"
   ]
  }
 ],
 "metadata": {
  "kernelspec": {
   "display_name": "Python 3.9.1 64-bit ('3.9.1')",
   "language": "python",
   "name": "python3"
  },
  "language_info": {
   "name": "python",
   "version": "3.9.1"
  },
  "orig_nbformat": 4,
  "vscode": {
   "interpreter": {
    "hash": "1e881f75bf7478e124c5aa0d02353c2d3670d1a7773b26fcf2547f6f4fafce3d"
   }
  }
 },
 "nbformat": 4,
 "nbformat_minor": 2
}
