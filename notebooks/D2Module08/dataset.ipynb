{
 "cells": [
  {
   "cell_type": "code",
   "execution_count": null,
   "metadata": {},
   "outputs": [],
   "source": [
    "#Dataset using range\n",
    "val ds = spark.range(3)\n",
    "ds.show()"
   ]
  },
  {
   "cell_type": "code",
   "execution_count": null,
   "metadata": {},
   "outputs": [],
   "source": [
    "#Dataset using list\n",
    "val dslist = List(1,2,3).toDS()\n",
    "dslist.show()"
   ]
  },
  {
   "cell_type": "code",
   "execution_count": null,
   "metadata": {},
   "outputs": [],
   "source": [
    "#Dataset using sequence\n",
    "val dsseq = Seq(1,2,3).toDS()\n",
    "dsseq.show()"
   ]
  },
  {
   "cell_type": "code",
   "execution_count": null,
   "metadata": {},
   "outputs": [],
   "source": [
    "#Dataset with case class\n",
    "case class Person(name: String, age: Long)\n",
    "val dsPerson = Seq(Person(\"Andy\", 32),Person(\"Kate\", 30),Person(\"Peter\", 34)).toDS()\n",
    "dsPerson.show()"
   ]
  },
  {
   "cell_type": "code",
   "execution_count": null,
   "metadata": {},
   "outputs": [],
   "source": [
    "#Dataset using RDD\n",
    "val rdd = sc.parallelize(Seq(1,2,3))\n",
    "val dsrdd = rdd.toDS()\n",
    "dsrdd.show()"
   ]
  }
 ],
 "metadata": {
  "language_info": {
   "name": "python"
  },
  "orig_nbformat": 4
 },
 "nbformat": 4,
 "nbformat_minor": 2
}
