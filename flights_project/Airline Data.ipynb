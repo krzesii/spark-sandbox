{
 "cells": [
  {
   "cell_type": "markdown",
   "id": "3f0db64f-571e-406b-a5d2-cae80b35e4dd",
   "metadata": {},
   "source": [
    "References:\n",
    "\n",
    "1. Data used in below exercise is in following location: https://mavenanalytics.io/data-playground?search=air\n"
   ]
  },
  {
   "cell_type": "markdown",
   "id": "1f2e2c07-056e-4679-82e6-9999f6cb0c83",
   "metadata": {},
   "source": [
    "Required analysis\n",
    "\n",
    "1. How does the overall flight volume vary by month? By day of week?\n",
    "\n",
    "2. What percentage of flights in experienced a departure delay in 2015? Among those flights, what was the average delay time, in minutes?\n",
    "\n",
    "3. How does the % of delayed flights vary throughout the year? What about for flights leaving from Boston (BOS) specifically?\n",
    "\n",
    "4. How many flights were cancelled in 2015? What % of cancellations were due to weather? What % were due to the Airline/Carrier?\n",
    "\n",
    "5. Which airlines seem to be most and least reliable, in terms of on-time departure?"
   ]
  },
  {
   "cell_type": "markdown",
   "id": "7a861e8c-0c9c-4f13-aaa9-14ca7f807f16",
   "metadata": {},
   "source": [
    "Requirements:\n",
    "\n",
    "1. Create .py files per each of required analysis. Files should contain transformation functions taking spark context and dataframe as argument, each function should also return dataframe.\n",
    "2. Create unit tests for each of above functions"
   ]
  },
  {
   "cell_type": "code",
   "execution_count": null,
   "id": "ef859f30-4ded-45ec-80af-f83fd2c438cb",
   "metadata": {},
   "outputs": [],
   "source": []
  },
  {
   "cell_type": "code",
   "execution_count": null,
   "id": "2e9003a4-7251-4e8e-ab85-3cbf2d0ba1c1",
   "metadata": {},
   "outputs": [],
   "source": []
  }
 ],
 "metadata": {
  "kernelspec": {
   "display_name": "Python 3 (ipykernel)",
   "language": "python",
   "name": "python3"
  },
  "language_info": {
   "codemirror_mode": {
    "name": "ipython",
    "version": 3
   },
   "file_extension": ".py",
   "mimetype": "text/x-python",
   "name": "python",
   "nbconvert_exporter": "python",
   "pygments_lexer": "ipython3",
   "version": "3.11.6"
  }
 },
 "nbformat": 4,
 "nbformat_minor": 5
}
